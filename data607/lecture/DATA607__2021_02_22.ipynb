{
  "nbformat": 4,
  "nbformat_minor": 0,
  "metadata": {
    "colab": {
      "name": "DATA607__2021-02-22.ipynb",
      "provenance": [],
      "collapsed_sections": [],
      "include_colab_link": true
    },
    "kernelspec": {
      "name": "python3",
      "display_name": "Python 3"
    }
  },
  "cells": [
    {
      "cell_type": "markdown",
      "metadata": {
        "id": "view-in-github",
        "colab_type": "text"
      },
      "source": [
        "<a href=\"https://colab.research.google.com/github/alby1976/Datahub/blob/master/data607/lecture/DATA607__2021_02_22.ipynb\" target=\"_parent\"><img src=\"https://colab.research.google.com/assets/colab-badge.svg\" alt=\"Open In Colab\"/></a>"
      ]
    },
    {
      "cell_type": "markdown",
      "metadata": {
        "id": "gSPPaMLrHtJW"
      },
      "source": [
        "# Classification"
      ]
    },
    {
      "cell_type": "code",
      "metadata": {
        "id": "VljBWrSLXlD4"
      },
      "source": [
        "import numpy as np\n",
        "from sklearn.datasets import load_breast_cancer"
      ],
      "execution_count": null,
      "outputs": []
    },
    {
      "cell_type": "code",
      "metadata": {
        "colab": {
          "base_uri": "https://localhost:8080/"
        },
        "id": "DdZc6I2pXsoL",
        "outputId": "15376bd7-b730-467c-fb88-c74768eb30fa"
      },
      "source": [
        "data = load_breast_cancer()\n",
        "print(data.DESCR)"
      ],
      "execution_count": null,
      "outputs": [
        {
          "output_type": "stream",
          "text": [
            ".. _breast_cancer_dataset:\n",
            "\n",
            "Breast cancer wisconsin (diagnostic) dataset\n",
            "--------------------------------------------\n",
            "\n",
            "**Data Set Characteristics:**\n",
            "\n",
            "    :Number of Instances: 569\n",
            "\n",
            "    :Number of Attributes: 30 numeric, predictive attributes and the class\n",
            "\n",
            "    :Attribute Information:\n",
            "        - radius (mean of distances from center to points on the perimeter)\n",
            "        - texture (standard deviation of gray-scale values)\n",
            "        - perimeter\n",
            "        - area\n",
            "        - smoothness (local variation in radius lengths)\n",
            "        - compactness (perimeter^2 / area - 1.0)\n",
            "        - concavity (severity of concave portions of the contour)\n",
            "        - concave points (number of concave portions of the contour)\n",
            "        - symmetry \n",
            "        - fractal dimension (\"coastline approximation\" - 1)\n",
            "\n",
            "        The mean, standard error, and \"worst\" or largest (mean of the three\n",
            "        largest values) of these features were computed for each image,\n",
            "        resulting in 30 features.  For instance, field 3 is Mean Radius, field\n",
            "        13 is Radius SE, field 23 is Worst Radius.\n",
            "\n",
            "        - class:\n",
            "                - WDBC-Malignant\n",
            "                - WDBC-Benign\n",
            "\n",
            "    :Summary Statistics:\n",
            "\n",
            "    ===================================== ====== ======\n",
            "                                           Min    Max\n",
            "    ===================================== ====== ======\n",
            "    radius (mean):                        6.981  28.11\n",
            "    texture (mean):                       9.71   39.28\n",
            "    perimeter (mean):                     43.79  188.5\n",
            "    area (mean):                          143.5  2501.0\n",
            "    smoothness (mean):                    0.053  0.163\n",
            "    compactness (mean):                   0.019  0.345\n",
            "    concavity (mean):                     0.0    0.427\n",
            "    concave points (mean):                0.0    0.201\n",
            "    symmetry (mean):                      0.106  0.304\n",
            "    fractal dimension (mean):             0.05   0.097\n",
            "    radius (standard error):              0.112  2.873\n",
            "    texture (standard error):             0.36   4.885\n",
            "    perimeter (standard error):           0.757  21.98\n",
            "    area (standard error):                6.802  542.2\n",
            "    smoothness (standard error):          0.002  0.031\n",
            "    compactness (standard error):         0.002  0.135\n",
            "    concavity (standard error):           0.0    0.396\n",
            "    concave points (standard error):      0.0    0.053\n",
            "    symmetry (standard error):            0.008  0.079\n",
            "    fractal dimension (standard error):   0.001  0.03\n",
            "    radius (worst):                       7.93   36.04\n",
            "    texture (worst):                      12.02  49.54\n",
            "    perimeter (worst):                    50.41  251.2\n",
            "    area (worst):                         185.2  4254.0\n",
            "    smoothness (worst):                   0.071  0.223\n",
            "    compactness (worst):                  0.027  1.058\n",
            "    concavity (worst):                    0.0    1.252\n",
            "    concave points (worst):               0.0    0.291\n",
            "    symmetry (worst):                     0.156  0.664\n",
            "    fractal dimension (worst):            0.055  0.208\n",
            "    ===================================== ====== ======\n",
            "\n",
            "    :Missing Attribute Values: None\n",
            "\n",
            "    :Class Distribution: 212 - Malignant, 357 - Benign\n",
            "\n",
            "    :Creator:  Dr. William H. Wolberg, W. Nick Street, Olvi L. Mangasarian\n",
            "\n",
            "    :Donor: Nick Street\n",
            "\n",
            "    :Date: November, 1995\n",
            "\n",
            "This is a copy of UCI ML Breast Cancer Wisconsin (Diagnostic) datasets.\n",
            "https://goo.gl/U2Uwz2\n",
            "\n",
            "Features are computed from a digitized image of a fine needle\n",
            "aspirate (FNA) of a breast mass.  They describe\n",
            "characteristics of the cell nuclei present in the image.\n",
            "\n",
            "Separating plane described above was obtained using\n",
            "Multisurface Method-Tree (MSM-T) [K. P. Bennett, \"Decision Tree\n",
            "Construction Via Linear Programming.\" Proceedings of the 4th\n",
            "Midwest Artificial Intelligence and Cognitive Science Society,\n",
            "pp. 97-101, 1992], a classification method which uses linear\n",
            "programming to construct a decision tree.  Relevant features\n",
            "were selected using an exhaustive search in the space of 1-4\n",
            "features and 1-3 separating planes.\n",
            "\n",
            "The actual linear program used to obtain the separating plane\n",
            "in the 3-dimensional space is that described in:\n",
            "[K. P. Bennett and O. L. Mangasarian: \"Robust Linear\n",
            "Programming Discrimination of Two Linearly Inseparable Sets\",\n",
            "Optimization Methods and Software 1, 1992, 23-34].\n",
            "\n",
            "This database is also available through the UW CS ftp server:\n",
            "\n",
            "ftp ftp.cs.wisc.edu\n",
            "cd math-prog/cpo-dataset/machine-learn/WDBC/\n",
            "\n",
            ".. topic:: References\n",
            "\n",
            "   - W.N. Street, W.H. Wolberg and O.L. Mangasarian. Nuclear feature extraction \n",
            "     for breast tumor diagnosis. IS&T/SPIE 1993 International Symposium on \n",
            "     Electronic Imaging: Science and Technology, volume 1905, pages 861-870,\n",
            "     San Jose, CA, 1993.\n",
            "   - O.L. Mangasarian, W.N. Street and W.H. Wolberg. Breast cancer diagnosis and \n",
            "     prognosis via linear programming. Operations Research, 43(4), pages 570-577, \n",
            "     July-August 1995.\n",
            "   - W.H. Wolberg, W.N. Street, and O.L. Mangasarian. Machine learning techniques\n",
            "     to diagnose breast cancer from fine-needle aspirates. Cancer Letters 77 (1994) \n",
            "     163-171.\n"
          ],
          "name": "stdout"
        }
      ]
    },
    {
      "cell_type": "code",
      "metadata": {
        "id": "GpRbdp8SXxXl"
      },
      "source": [
        "X = data.data # measurements\n",
        "y = data.target # class labels"
      ],
      "execution_count": null,
      "outputs": []
    },
    {
      "cell_type": "code",
      "metadata": {
        "colab": {
          "base_uri": "https://localhost:8080/"
        },
        "id": "4CiU02xQYDg0",
        "outputId": "e3ce5b3b-3d06-4209-cf5b-fd388c4d09d8"
      },
      "source": [
        "print(f\"X.shape={X.shape}, y.shape={y.shape}\")\n",
        "print(y)"
      ],
      "execution_count": null,
      "outputs": [
        {
          "output_type": "stream",
          "text": [
            "X.shape=(569, 30), y.shape=(569,)\n",
            "[0 0 0 0 0 0 0 0 0 0 0 0 0 0 0 0 0 0 0 1 1 1 0 0 0 0 0 0 0 0 0 0 0 0 0 0 0\n",
            " 1 0 0 0 0 0 0 0 0 1 0 1 1 1 1 1 0 0 1 0 0 1 1 1 1 0 1 0 0 1 1 1 1 0 1 0 0\n",
            " 1 0 1 0 0 1 1 1 0 0 1 0 0 0 1 1 1 0 1 1 0 0 1 1 1 0 0 1 1 1 1 0 1 1 0 1 1\n",
            " 1 1 1 1 1 1 0 0 0 1 0 0 1 1 1 0 0 1 0 1 0 0 1 0 0 1 1 0 1 1 0 1 1 1 1 0 1\n",
            " 1 1 1 1 1 1 1 1 0 1 1 1 1 0 0 1 0 1 1 0 0 1 1 0 0 1 1 1 1 0 1 1 0 0 0 1 0\n",
            " 1 0 1 1 1 0 1 1 0 0 1 0 0 0 0 1 0 0 0 1 0 1 0 1 1 0 1 0 0 0 0 1 1 0 0 1 1\n",
            " 1 0 1 1 1 1 1 0 0 1 1 0 1 1 0 0 1 0 1 1 1 1 0 1 1 1 1 1 0 1 0 0 0 0 0 0 0\n",
            " 0 0 0 0 0 0 0 1 1 1 1 1 1 0 1 0 1 1 0 1 1 0 1 0 0 1 1 1 1 1 1 1 1 1 1 1 1\n",
            " 1 0 1 1 0 1 0 1 1 1 1 1 1 1 1 1 1 1 1 1 1 0 1 1 1 0 1 0 1 1 1 1 0 0 0 1 1\n",
            " 1 1 0 1 0 1 0 1 1 1 0 1 1 1 1 1 1 1 0 0 0 1 1 1 1 1 1 1 1 1 1 1 0 0 1 0 0\n",
            " 0 1 0 0 1 1 1 1 1 0 1 1 1 1 1 0 1 1 1 0 1 1 0 0 1 1 1 1 1 1 0 1 1 1 1 1 1\n",
            " 1 0 1 1 1 1 1 0 1 1 0 1 1 1 1 1 1 1 1 1 1 1 1 0 1 0 0 1 0 1 1 1 1 1 0 1 1\n",
            " 0 1 0 1 1 0 1 0 1 1 1 1 1 1 1 1 0 0 1 1 1 1 1 1 0 1 1 1 1 1 1 1 1 1 1 0 1\n",
            " 1 1 1 1 1 1 0 1 0 1 1 0 1 1 1 1 1 0 0 1 0 1 0 1 1 1 1 1 0 1 1 0 1 0 1 0 0\n",
            " 1 1 1 0 1 1 1 1 1 1 1 1 1 1 1 0 1 0 0 1 1 1 1 1 1 1 1 1 1 1 1 1 1 1 1 1 1\n",
            " 1 1 1 1 1 1 1 0 0 0 0 0 0 1]\n"
          ],
          "name": "stdout"
        }
      ]
    },
    {
      "cell_type": "code",
      "metadata": {
        "colab": {
          "base_uri": "https://localhost:8080/"
        },
        "id": "69Uj1AxxYG4I",
        "outputId": "101e483e-ce95-4c17-b145-0ef51bb4d4b7"
      },
      "source": [
        "print(data.feature_names)"
      ],
      "execution_count": null,
      "outputs": [
        {
          "output_type": "stream",
          "text": [
            "['mean radius' 'mean texture' 'mean perimeter' 'mean area'\n",
            " 'mean smoothness' 'mean compactness' 'mean concavity'\n",
            " 'mean concave points' 'mean symmetry' 'mean fractal dimension'\n",
            " 'radius error' 'texture error' 'perimeter error' 'area error'\n",
            " 'smoothness error' 'compactness error' 'concavity error'\n",
            " 'concave points error' 'symmetry error' 'fractal dimension error'\n",
            " 'worst radius' 'worst texture' 'worst perimeter' 'worst area'\n",
            " 'worst smoothness' 'worst compactness' 'worst concavity'\n",
            " 'worst concave points' 'worst symmetry' 'worst fractal dimension']\n"
          ],
          "name": "stdout"
        }
      ]
    },
    {
      "cell_type": "code",
      "metadata": {
        "colab": {
          "base_uri": "https://localhost:8080/"
        },
        "id": "YEJMuta3YkXL",
        "outputId": "171d6f24-2a21-4545-9690-ed8bc843bcb7"
      },
      "source": [
        "X[5,:]"
      ],
      "execution_count": null,
      "outputs": [
        {
          "output_type": "execute_result",
          "data": {
            "text/plain": [
              "array([1.245e+01, 1.570e+01, 8.257e+01, 4.771e+02, 1.278e-01, 1.700e-01,\n",
              "       1.578e-01, 8.089e-02, 2.087e-01, 7.613e-02, 3.345e-01, 8.902e-01,\n",
              "       2.217e+00, 2.719e+01, 7.510e-03, 3.345e-02, 3.672e-02, 1.137e-02,\n",
              "       2.165e-02, 5.082e-03, 1.547e+01, 2.375e+01, 1.034e+02, 7.416e+02,\n",
              "       1.791e-01, 5.249e-01, 5.355e-01, 1.741e-01, 3.985e-01, 1.244e-01])"
            ]
          },
          "metadata": {
            "tags": []
          },
          "execution_count": 20
        }
      ]
    },
    {
      "cell_type": "code",
      "metadata": {
        "colab": {
          "base_uri": "https://localhost:8080/",
          "height": 227
        },
        "id": "0jjKELY-Ynzo",
        "outputId": "a042612a-d0c5-4181-a6e5-1c66608298e3"
      },
      "source": [
        "from matplotlib import pyplot as plt\n",
        "# from scipy.stats import norm\n",
        "\n",
        "means0 = np.mean(X[y == 0, :], axis=0)\n",
        "stds0 = np.std(X[y == 0, :], axis=0)\n",
        "\n",
        "means1 = np.mean(X[y == 1, :], axis=0)\n",
        "stds1 = np.std(X[y == 1, :], axis=0)\n",
        "\n",
        "def f(x, m, s):\n",
        "  return np.exp(-0.5*(x - m)**2/s**2)/np.sqrt(2*np.pi*s**2)\n",
        "\n",
        "fig, axes = plt.subplots(1, 4, figsize=(12, 3))\n",
        "for i, ax in enumerate(axes):\n",
        "  ax.hist(X[y == 0, i], color=(1,0,0,0.5), label=\"class 0\", density=True)\n",
        "  ax.hist(X[y == 1, i],  color=(0,0,1,0.5),label=\"class 1\", density=True)\n",
        "  xmin, xmax = ax.get_xlim()\n",
        "  xs = np.linspace(xmin, xmax, 100)\n",
        "  ax.plot(xs, f(xs, means0[i], stds0[i]), color=(1,0,0), lw=3)\n",
        "  ax.plot(xs, f(xs, means1[i], stds1[i]), color=(0,0,1), lw=3)\n",
        "  ax.set_title(f\"Feature {i}: {data.feature_names[i]}\")\n",
        "  ax.legend();\n",
        "# color = (R, G, B, O) O = Opacity"
      ],
      "execution_count": null,
      "outputs": [
        {
          "output_type": "display_data",
          "data": {
            "image/png": "[encoded data removed]",
            "text/plain": [
              "<Figure size 864x216 with 4 Axes>"
            ]
          },
          "metadata": {
            "tags": [],
            "needs_background": "light"
          }
        }
      ]
    },
    {
      "cell_type": "markdown",
      "metadata": {
        "id": "KGnBHjOHaNVC"
      },
      "source": [
        "## Bayes' classifier"
      ]
    },
    {
      "cell_type": "markdown",
      "metadata": {
        "id": "iq7bF_sOeVAD"
      },
      "source": [
        "$$\n",
        "p(Y=1\\mid X=x) = \\frac{p(X=x\\mid Y=1)p(Y=1)}\n",
        "{p(X=x\\mid Y=0)p(Y=0) + p(X=x\\mid Y=1)p(Y=1)}\n",
        "$$"
      ]
    },
    {
      "cell_type": "code",
      "metadata": {
        "colab": {
          "base_uri": "https://localhost:8080/"
        },
        "id": "ts-ouxQieVgZ",
        "outputId": "065e5b40-c964-4db9-cfaf-952e3a17ea92"
      },
      "source": [
        "from scipy.stats import multivariate_normal\n",
        "from sklearn.model_selection import train_test_split\n",
        "\n",
        "norm = multivariate_normal.pdf\n",
        "\n",
        "np.random.seed(42) # important for repeatability\n",
        "\n",
        "X_tr, X_te, y_tr, y_te = train_test_split(X, y, test_size=0.2)\n",
        "\n",
        "# fit the model (training data)\n",
        "mean0 = np.mean(X_tr[y_tr == 0, :], axis=0)\n",
        "mean1 = np.mean(X_tr[y_tr == 1, :], axis=0)\n",
        "cov0 = np.cov(X_tr[y_tr == 0,:].T) # see below for explanation of transpose\n",
        "cov1 = np.cov(X_tr[y_tr == 1,:].T)\n",
        "pY0 = 1 - np.mean(y_tr)\n",
        "pY1 = np.mean(y_tr)\n",
        "\n",
        "# prediction (testing data)\n",
        "pXxY0 = norm(X_te, mean=mean0, cov=cov0, allow_singular=True)\n",
        "pXxY1 = norm(X_te, mean=mean1, cov=cov1, allow_singular=True)\n",
        "pY1Xx = pXxY1*pY1/(pXxY0*pY0 + pXxY1*pY1)\n",
        "\n",
        "acc = np.mean(1*(pY1Xx > 0.5) == y_te)\n",
        "print(f\"testing accuracy = {acc}\")"
      ],
      "execution_count": null,
      "outputs": [
        {
          "output_type": "stream",
          "text": [
            "testing accuracy = 0.9385964912280702\n"
          ],
          "name": "stdout"
        }
      ]
    },
    {
      "cell_type": "code",
      "metadata": {
        "colab": {
          "base_uri": "https://localhost:8080/"
        },
        "id": "c0RXfaUnoiII",
        "outputId": "177a29c7-d024-4303-9d3f-ec5eb1366d3a"
      },
      "source": [
        "Z = X - X.mean(axis=0)\n",
        "C = Z.T @ Z / (len(Z) - 1)\n",
        "C[:3,:3]"
      ],
      "execution_count": null,
      "outputs": [
        {
          "output_type": "execute_result",
          "data": {
            "text/plain": [
              "array([[ 12.41892013,   4.90758156,  85.44714166],\n",
              "       [  4.90758156,  18.49890868,  34.43975917],\n",
              "       [ 85.44714166,  34.43975917, 590.44047952]])"
            ]
          },
          "metadata": {
            "tags": []
          },
          "execution_count": 98
        }
      ]
    },
    {
      "cell_type": "code",
      "metadata": {
        "colab": {
          "base_uri": "https://localhost:8080/"
        },
        "id": "z-ocEL3No2OV",
        "outputId": "8b90f91c-3f59-43b7-fae2-7f222256fefb"
      },
      "source": [
        "np.cov(X, rowvar=False)[:3,:3]"
      ],
      "execution_count": null,
      "outputs": [
        {
          "output_type": "execute_result",
          "data": {
            "text/plain": [
              "array([[ 12.41892013,   4.90758156,  85.44714166],\n",
              "       [  4.90758156,  18.49890868,  34.43975917],\n",
              "       [ 85.44714166,  34.43975917, 590.44047952]])"
            ]
          },
          "metadata": {
            "tags": []
          },
          "execution_count": 100
        }
      ]
    },
    {
      "cell_type": "markdown",
      "metadata": {
        "id": "_L1llWp_rLTE"
      },
      "source": [
        "## $K$-class classification, $K>2$"
      ]
    },
    {
      "cell_type": "code",
      "metadata": {
        "id": "AgNXUr-vsQrv"
      },
      "source": [
        "from sklearn.datasets import load_digits # MNIST dataset"
      ],
      "execution_count": null,
      "outputs": []
    },
    {
      "cell_type": "code",
      "metadata": {
        "id": "JNqpAqJ6sWq-"
      },
      "source": [
        "X, y = load_digits(return_X_y=True)\n",
        "\n",
        "X_tr, X_te, y_tr, y_te = train_test_split(X, y, test_size=0.2)"
      ],
      "execution_count": null,
      "outputs": []
    },
    {
      "cell_type": "code",
      "metadata": {
        "id": "GcahyTkls2hj"
      },
      "source": [
        ""
      ],
      "execution_count": null,
      "outputs": []
    },
    {
      "cell_type": "code",
      "metadata": {
        "colab": {
          "base_uri": "https://localhost:8080/"
        },
        "id": "rbJUhj_esgOt",
        "outputId": "a720a86a-b0e7-4a2d-ac92-58cadb22bcb1"
      },
      "source": [
        "print(X_tr.shape, X_te.shape)"
      ],
      "execution_count": null,
      "outputs": [
        {
          "output_type": "stream",
          "text": [
            "(1437, 64) (360, 64)\n"
          ],
          "name": "stdout"
        }
      ]
    },
    {
      "cell_type": "code",
      "metadata": {
        "colab": {
          "base_uri": "https://localhost:8080/",
          "height": 211
        },
        "id": "Od5VCpZhsizF",
        "outputId": "348034ab-7ee0-4bbe-9a68-d45ba670c3b0"
      },
      "source": [
        "fig, axes = plt.subplots(1, 5, figsize=(15, 3))\n",
        "m = 50\n",
        "for j, ax in enumerate(axes):\n",
        "  i = j + m\n",
        "  ax.set_axis_off()\n",
        "  ax.set_title(f\"y[{i}]={y[i]}\")\n",
        "  ax.imshow(X[i,:].reshape((8,8)), cmap=\"Blues\")"
      ],
      "execution_count": null,
      "outputs": [
        {
          "output_type": "display_data",
          "data": {
            "image/png": "[encoded data removed]",
            "text/plain": [
              "<Figure size 1080x216 with 5 Axes>"
            ]
          },
          "metadata": {
            "tags": [],
            "needs_background": "light"
          }
        }
      ]
    },
    {
      "cell_type": "code",
      "metadata": {
        "colab": {
          "base_uri": "https://localhost:8080/"
        },
        "id": "gwxFSeqIs0D3",
        "outputId": "695c610d-51fc-45bd-8a01-61937b52d124"
      },
      "source": [
        "print(f\"classes = {set(y)}\")"
      ],
      "execution_count": null,
      "outputs": [
        {
          "output_type": "stream",
          "text": [
            "classes = {0, 1, 2, 3, 4, 5, 6, 7, 8, 9}\n"
          ],
          "name": "stdout"
        }
      ]
    },
    {
      "cell_type": "code",
      "metadata": {
        "id": "Oy84VbRztklg"
      },
      "source": [
        "# Model image as a 64-dimensional Gaussian\n",
        "\n",
        "# fitting the model (training data)\n",
        "means = [np.mean(X_tr[y_tr == c, :], axis=0) for c in range(10)] # list comprehensions\n",
        "covs = [np.cov(X_tr[y_tr == c, :].T) for c in range(10)]\n",
        "priors = np.array([np.mean(y_tr == c) for c in range(10)])\n",
        "\n",
        "# prediction (test data)\n",
        "pXxYc = np.array([multivariate_normal.pdf(X_te, mean=mean, cov=cov, allow_singular=True) for (mean, cov) in zip(means, covs)])\n",
        "posteriors = pXxYc*priors.reshape(10,1) # broadcasting!!\n",
        "y_pred = np.argmax(posteriors, axis=0)\n",
        "acc = np.mean(y_pred == y_te)"
      ],
      "execution_count": null,
      "outputs": []
    },
    {
      "cell_type": "code",
      "metadata": {
        "id": "WC-1TXJ1uKfG"
      },
      "source": [
        "a = np.array([[1,2,5,6], [5,5,5,5]])"
      ],
      "execution_count": null,
      "outputs": []
    },
    {
      "cell_type": "code",
      "metadata": {
        "colab": {
          "base_uri": "https://localhost:8080/"
        },
        "id": "yzrvXPJduLxw",
        "outputId": "c698363f-b184-49af-bcfd-1d783fa330fe"
      },
      "source": [
        "a[:, np.newaxis,:]"
      ],
      "execution_count": null,
      "outputs": [
        {
          "output_type": "execute_result",
          "data": {
            "text/plain": [
              "array([[[1, 2, 5, 6]],\n",
              "\n",
              "       [[5, 5, 5, 5]]])"
            ]
          },
          "metadata": {
            "tags": []
          },
          "execution_count": 157
        }
      ]
    },
    {
      "cell_type": "code",
      "metadata": {
        "colab": {
          "base_uri": "https://localhost:8080/"
        },
        "id": "4xZ1dqw5yi_4",
        "outputId": "38a05da6-73f3-4ce6-cf79-560d0bac814b"
      },
      "source": [
        "a.reshape(2, 1, -1)"
      ],
      "execution_count": null,
      "outputs": [
        {
          "output_type": "execute_result",
          "data": {
            "text/plain": [
              "array([[[1, 2, 5, 6]],\n",
              "\n",
              "       [[5, 5, 5, 5]]])"
            ]
          },
          "metadata": {
            "tags": []
          },
          "execution_count": 158
        }
      ]
    },
    {
      "cell_type": "code",
      "metadata": {
        "colab": {
          "base_uri": "https://localhost:8080/"
        },
        "id": "4qQOXQ31zCTo",
        "outputId": "6b23c1bc-7a75-4460-9e62-2f469c404026"
      },
      "source": [
        "a.reshape((4, 2))"
      ],
      "execution_count": null,
      "outputs": [
        {
          "output_type": "execute_result",
          "data": {
            "text/plain": [
              "array([[1, 2],\n",
              "       [5, 6],\n",
              "       [5, 5],\n",
              "       [5, 5]])"
            ]
          },
          "metadata": {
            "tags": []
          },
          "execution_count": 159
        }
      ]
    },
    {
      "cell_type": "code",
      "metadata": {
        "id": "EYQN3kh1zKXZ"
      },
      "source": [
        ""
      ],
      "execution_count": null,
      "outputs": []
    }
  ]
}